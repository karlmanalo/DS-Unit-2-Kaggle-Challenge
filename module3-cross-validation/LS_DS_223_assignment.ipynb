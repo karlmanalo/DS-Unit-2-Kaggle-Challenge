{
 "cells": [
  {
   "cell_type": "markdown",
   "metadata": {
    "colab_type": "text",
    "id": "Ezec69zOB75m"
   },
   "source": [
    "Lambda School Data Science\n",
    "\n",
    "*Unit 2, Sprint 2, Module 3*\n",
    "\n",
    "---"
   ]
  },
  {
   "cell_type": "markdown",
   "metadata": {
    "colab_type": "text",
    "id": "97A_OxyAB75n"
   },
   "source": [
    "# Cross-Validation\n",
    "\n",
    "\n",
    "## Assignment\n",
    "- [ ] [Review requirements for your portfolio project](https://lambdaschool.github.io/ds/unit2), then submit your dataset.\n",
    "- [ ] Continue to participate in our Kaggle challenge. \n",
    "- [ ] Use scikit-learn for hyperparameter optimization with RandomizedSearchCV.\n",
    "- [ ] Submit your predictions to our Kaggle competition. (Go to our Kaggle InClass competition webpage. Use the blue **Submit Predictions** button to upload your CSV file. Or you can use the Kaggle API to submit your predictions.)\n",
    "- [ ] Commit your notebook to your fork of the GitHub repo.\n",
    "\n",
    "\n",
    "You won't be able to just copy from the lesson notebook to this assignment.\n",
    "\n",
    "- Because the lesson was ***regression***, but the assignment is ***classification.***\n",
    "- Because the lesson used [TargetEncoder](https://contrib.scikit-learn.org/categorical-encoding/targetencoder.html), which doesn't work as-is for _multi-class_ classification.\n",
    "\n",
    "So you will have to adapt the example, which is good real-world practice.\n",
    "\n",
    "1. Use a model for classification, such as [RandomForestClassifier](https://scikit-learn.org/stable/modules/generated/sklearn.ensemble.RandomForestClassifier.html)\n",
    "2. Use hyperparameters that match the classifier, such as `randomforestclassifier__ ...`\n",
    "3. Use a metric for classification, such as [`scoring='accuracy'`](https://scikit-learn.org/stable/modules/model_evaluation.html#common-cases-predefined-values)\n",
    "4. If you’re doing a multi-class classification problem — such as whether a waterpump is functional, functional needs repair, or nonfunctional — then use a categorical encoding that works for multi-class classification, such as [OrdinalEncoder](https://contrib.scikit-learn.org/categorical-encoding/ordinal.html) (not [TargetEncoder](https://contrib.scikit-learn.org/categorical-encoding/targetencoder.html))\n",
    "\n",
    "\n",
    "\n",
    "## Stretch Goals\n",
    "\n",
    "### Reading\n",
    "- Jake VanderPlas, [Python Data Science Handbook, Chapter 5.3](https://jakevdp.github.io/PythonDataScienceHandbook/05.03-hyperparameters-and-model-validation.html), Hyperparameters and Model Validation\n",
    "- Jake VanderPlas, [Statistics for Hackers](https://speakerdeck.com/jakevdp/statistics-for-hackers?slide=107)\n",
    "- Ron Zacharski, [A Programmer's Guide to Data Mining, Chapter 5](http://guidetodatamining.com/chapter5/), 10-fold cross validation\n",
    "- Sebastian Raschka, [A Basic Pipeline and Grid Search Setup](https://github.com/rasbt/python-machine-learning-book/blob/master/code/bonus/svm_iris_pipeline_and_gridsearch.ipynb)\n",
    "- Peter Worcester, [A Comparison of Grid Search and Randomized Search Using Scikit Learn](https://blog.usejournal.com/a-comparison-of-grid-search-and-randomized-search-using-scikit-learn-29823179bc85)\n",
    "\n",
    "### Doing\n",
    "- Add your own stretch goals!\n",
    "- Try other [categorical encodings](https://contrib.scikit-learn.org/categorical-encoding/). See the previous assignment notebook for details.\n",
    "- In additon to `RandomizedSearchCV`, scikit-learn has [`GridSearchCV`](https://scikit-learn.org/stable/modules/generated/sklearn.model_selection.GridSearchCV.html). Another library called scikit-optimize has [`BayesSearchCV`](https://scikit-optimize.github.io/notebooks/sklearn-gridsearchcv-replacement.html). Experiment with these alternatives.\n",
    "- _[Introduction to Machine Learning with Python](http://shop.oreilly.com/product/0636920030515.do)_ discusses options for \"Grid-Searching Which Model To Use\" in Chapter 6:\n",
    "\n",
    "> You can even go further in combining GridSearchCV and Pipeline: it is also possible to search over the actual steps being performed in the pipeline (say whether to use StandardScaler or MinMaxScaler). This leads to an even bigger search space and should be considered carefully. Trying all possible solutions is usually not a viable machine learning strategy. However, here is an example comparing a RandomForestClassifier and an SVC ...\n",
    "\n",
    "The example is shown in [the accompanying notebook](https://github.com/amueller/introduction_to_ml_with_python/blob/master/06-algorithm-chains-and-pipelines.ipynb), code cells 35-37. Could you apply this concept to your own pipelines?\n"
   ]
  },
  {
   "cell_type": "markdown",
   "metadata": {
    "colab_type": "text",
    "id": "5rsBx3hzB75o"
   },
   "source": [
    "### BONUS: Stacking!\n",
    "\n",
    "Here's some code you can use to \"stack\" multiple submissions, which is another form of ensembling:\n",
    "\n",
    "```python\n",
    "import pandas as pd\n",
    "\n",
    "# Filenames of your submissions you want to ensemble\n",
    "files = ['submission-01.csv', 'submission-02.csv', 'submission-03.csv']\n",
    "\n",
    "target = 'status_group'\n",
    "submissions = (pd.read_csv(file)[[target]] for file in files)\n",
    "ensemble = pd.concat(submissions, axis='columns')\n",
    "majority_vote = ensemble.mode(axis='columns')[0]\n",
    "\n",
    "sample_submission = pd.read_csv('sample_submission.csv')\n",
    "submission = sample_submission.copy()\n",
    "submission[target] = majority_vote\n",
    "submission.to_csv('my-ultimate-ensemble-submission.csv', index=False)\n",
    "```"
   ]
  },
  {
   "cell_type": "code",
   "execution_count": 2,
   "metadata": {
    "colab": {},
    "colab_type": "code",
    "id": "WxrbxnzaB75o"
   },
   "outputs": [],
   "source": [
    "%%capture\n",
    "import sys\n",
    "\n",
    "# If you're on Colab:\n",
    "if 'google.colab' in sys.modules:\n",
    "    DATA_PATH = 'https://raw.githubusercontent.com/LambdaSchool/DS-Unit-2-Kaggle-Challenge/master/data/'\n",
    "    !pip install category_encoders==2.*\n",
    "\n",
    "# If you're working locally:\n",
    "else:\n",
    "    DATA_PATH = './data/'"
   ]
  },
  {
   "cell_type": "code",
   "execution_count": 3,
   "metadata": {
    "colab": {},
    "colab_type": "code",
    "id": "wGWHJFo-B75s"
   },
   "outputs": [],
   "source": [
    "import pandas as pd\n",
    "\n",
    "# Merge train_features.csv & train_labels.csv\n",
    "train = pd.merge(pd.read_csv(DATA_PATH+'waterpumps/train_features.csv'), \n",
    "                 pd.read_csv(DATA_PATH+'waterpumps/train_labels.csv'))\n",
    "\n",
    "# Read test_features.csv & sample_submission.csv\n",
    "test = pd.read_csv(DATA_PATH+'waterpumps/test_features.csv')\n",
    "sample_submission = pd.read_csv(DATA_PATH+'waterpumps/sample_submission.csv')"
   ]
  },
  {
   "cell_type": "markdown",
   "metadata": {
    "colab_type": "text",
    "id": "kDizJh27EIyw"
   },
   "source": [
    "- [ ] [Review requirements for your portfolio project](https://lambdaschool.github.io/ds/unit2), then submit your dataset."
   ]
  },
  {
   "cell_type": "markdown",
   "metadata": {
    "colab_type": "text",
    "id": "ar2ljhMMELf4"
   },
   "source": [
    "Done."
   ]
  },
  {
   "cell_type": "markdown",
   "metadata": {
    "colab_type": "text",
    "id": "qjdawcoBEQzU"
   },
   "source": [
    "- [ ] Continue to participate in our Kaggle challenge. "
   ]
  },
  {
   "cell_type": "markdown",
   "metadata": {
    "colab_type": "text",
    "id": "Nq5LliAsES9X"
   },
   "source": [
    "Work below."
   ]
  },
  {
   "cell_type": "code",
   "execution_count": 4,
   "metadata": {
    "colab": {},
    "colab_type": "code",
    "id": "z3GQctUvE5Fr"
   },
   "outputs": [],
   "source": [
    "# Defining wrangle function. Copies matrix X to avoid setting with copy \n",
    "# warnings. Replaces outliers in latitude with 0. Replaces zeroes with NaN where \n",
    "# appropriate. Drops unusable variance. Essentially cleans matrix X with one\n",
    "# function.\n",
    "\n",
    "import numpy as np\n",
    "\n",
    "def wrangle(X):\n",
    "\n",
    "  X = X.copy()\n",
    "\n",
    "  X['latitude'] = X['latitude'].replace(-2e-08, 0)\n",
    "\n",
    "  cols_with_zeroes = ['longitude', 'latitude', 'construction_year',\n",
    "                      'gps_height', 'population']\n",
    "\n",
    "  for col in cols_with_zeroes:\n",
    "    X[col] = X[col].replace(0, np.nan)\n",
    "    X[col+'_missing'] = X[col].isnull()\n",
    "\n",
    "  duplicates = ['quantity_group', 'payment_type']\n",
    "  X = X.drop(columns=duplicates)\n",
    "\n",
    "  random_noise = ['recorded_by', 'id']\n",
    "  X = X.drop(columns=random_noise)\n",
    "  \n",
    "  return X"
   ]
  },
  {
   "cell_type": "code",
   "execution_count": 5,
   "metadata": {
    "colab": {
     "base_uri": "https://localhost:8080/",
     "height": 34
    },
    "colab_type": "code",
    "id": "HcT7Q7yQE9ud",
    "outputId": "fc6db200-bfa0-479a-eecb-9d3cf9a89b5e"
   },
   "outputs": [
    {
     "data": {
      "text/plain": [
       "((47520, 41), (11880, 41), (14358, 40))"
      ]
     },
     "execution_count": 5,
     "metadata": {},
     "output_type": "execute_result"
    }
   ],
   "source": [
    "# Splitting train set into train/val sets.\n",
    "\n",
    "from sklearn.model_selection import train_test_split\n",
    "\n",
    "train, val = train_test_split(train, train_size=0.8, test_size=0.2,\n",
    "                              stratify=train['status_group'], random_state=7)\n",
    "\n",
    "train.shape, val.shape, test.shape"
   ]
  },
  {
   "cell_type": "code",
   "execution_count": 6,
   "metadata": {
    "colab": {},
    "colab_type": "code",
    "id": "CVLwSAl5FHmU"
   },
   "outputs": [],
   "source": [
    "# Applying wrangle function to train/val/test sets.\n",
    "\n",
    "train = wrangle(train)\n",
    "val = wrangle(val)\n",
    "test = wrangle(test)"
   ]
  },
  {
   "cell_type": "code",
   "execution_count": 7,
   "metadata": {
    "colab": {},
    "colab_type": "code",
    "id": "BmJU0z8KFJlr"
   },
   "outputs": [],
   "source": [
    "# Defining target and features to use. Dropping target because duh, excluding \n",
    "# high cardinality features.\n",
    "\n",
    "target = 'status_group'\n",
    "\n",
    "train_features = train.drop(columns=[target])\n",
    "\n",
    "numeric_features = train_features.select_dtypes(include='number').columns.tolist()\n",
    "\n",
    "cardinality = train_features.select_dtypes(exclude='number').nunique()\n",
    "\n",
    "categorical_features = cardinality[cardinality <= 50].index.tolist()\n",
    "\n",
    "features = numeric_features + categorical_features"
   ]
  },
  {
   "cell_type": "code",
   "execution_count": 8,
   "metadata": {
    "colab": {},
    "colab_type": "code",
    "id": "aj6Jke-lFLdG"
   },
   "outputs": [],
   "source": [
    "# Breaking train/val/test sets into feature matrices and target matrices where\n",
    "# appropriate. \n",
    "\n",
    "X_train = train[features]\n",
    "y_train = train[target]\n",
    "\n",
    "X_val = val[features]\n",
    "y_val = val[target]\n",
    "\n",
    "X_test = test[features]"
   ]
  },
  {
   "cell_type": "code",
   "execution_count": 9,
   "metadata": {},
   "outputs": [
    {
     "name": "stdout",
     "output_type": "stream",
     "text": [
      "Requirement already satisfied: category_encoders in c:\\users\\karl\\anaconda3\\lib\\site-packages (2.1.0)\n",
      "Requirement already satisfied: scipy>=0.19.0 in c:\\users\\karl\\anaconda3\\lib\\site-packages (from category_encoders) (1.4.1)\n",
      "Requirement already satisfied: patsy>=0.4.1 in c:\\users\\karl\\anaconda3\\lib\\site-packages (from category_encoders) (0.5.1)\n",
      "Requirement already satisfied: scikit-learn>=0.20.0 in c:\\users\\karl\\anaconda3\\lib\\site-packages (from category_encoders) (0.22.1)\n",
      "Requirement already satisfied: statsmodels>=0.6.1 in c:\\users\\karl\\anaconda3\\lib\\site-packages (from category_encoders) (0.11.0)\n",
      "Requirement already satisfied: numpy>=1.11.3 in c:\\users\\karl\\anaconda3\\lib\\site-packages (from category_encoders) (1.18.1)\n",
      "Requirement already satisfied: pandas>=0.21.1 in c:\\users\\karl\\anaconda3\\lib\\site-packages (from category_encoders) (1.0.1)\n",
      "Requirement already satisfied: six in c:\\users\\karl\\anaconda3\\lib\\site-packages (from patsy>=0.4.1->category_encoders) (1.14.0)\n",
      "Requirement already satisfied: joblib>=0.11 in c:\\users\\karl\\anaconda3\\lib\\site-packages (from scikit-learn>=0.20.0->category_encoders) (0.14.1)\n",
      "Requirement already satisfied: python-dateutil>=2.6.1 in c:\\users\\karl\\anaconda3\\lib\\site-packages (from pandas>=0.21.1->category_encoders) (2.8.1)\n",
      "Requirement already satisfied: pytz>=2017.2 in c:\\users\\karl\\anaconda3\\lib\\site-packages (from pandas>=0.21.1->category_encoders) (2019.3)\n",
      "Note: you may need to restart the kernel to use updated packages.\n"
     ]
    }
   ],
   "source": [
    "pip install category_encoders"
   ]
  },
  {
   "cell_type": "code",
   "execution_count": 10,
   "metadata": {
    "colab": {},
    "colab_type": "code",
    "id": "6mnWCpwhFlRH"
   },
   "outputs": [],
   "source": [
    "# Importing all the stuff I'm probably going to use\n",
    "\n",
    "import category_encoders as ce\n",
    "from sklearn.pipeline import make_pipeline\n",
    "from sklearn.preprocessing import StandardScaler\n",
    "from sklearn.impute import SimpleImputer\n",
    "from sklearn.model_selection import cross_val_score\n",
    "from sklearn.ensemble import RandomForestClassifier"
   ]
  },
  {
   "cell_type": "code",
   "execution_count": 11,
   "metadata": {
    "colab": {},
    "colab_type": "code",
    "id": "b1tUuyNtHRud"
   },
   "outputs": [],
   "source": [
    "# Defining pipeline\n",
    "\n",
    "pipeline = make_pipeline(\n",
    "    ce.OrdinalEncoder(),\n",
    "    SimpleImputer(strategy='median'),\n",
    "    RandomForestClassifier(n_jobs=-1, random_state=7)\n",
    ")"
   ]
  },
  {
   "cell_type": "code",
   "execution_count": 13,
   "metadata": {
    "colab": {
     "base_uri": "https://localhost:8080/",
     "height": 34
    },
    "colab_type": "code",
    "id": "LtIRIb-ZHnWb",
    "outputId": "813754b6-db83-4409-ec74-24b7ffabbc13"
   },
   "outputs": [
    {
     "name": "stdout",
     "output_type": "stream",
     "text": [
      "Accuracy for 5 folds: [0.79661195 0.7957702  0.8035564  0.80039983 0.79271886]\n"
     ]
    }
   ],
   "source": [
    "# Getting cross_val_score of pipeline\n",
    "\n",
    "k = 5\n",
    "scores = cross_val_score(pipeline, X_train, y_train, cv=k,\n",
    "                         scoring='accuracy')\n",
    "print(f'Accuracy for {k} folds:', scores)"
   ]
  },
  {
   "cell_type": "markdown",
   "metadata": {
    "colab_type": "text",
    "id": "CvWIUhgpEUDN"
   },
   "source": [
    "- [ ] Use scikit-learn for hyperparameter optimization with RandomizedSearchCV."
   ]
  },
  {
   "cell_type": "code",
   "execution_count": 12,
   "metadata": {
    "colab": {},
    "colab_type": "code",
    "id": "p1n1vug5B75w"
   },
   "outputs": [],
   "source": [
    "# Importing RandomizedSearchCV\n",
    "\n",
    "from sklearn.model_selection import RandomizedSearchCV"
   ]
  },
  {
   "cell_type": "code",
   "execution_count": 13,
   "metadata": {
    "colab": {},
    "colab_type": "code",
    "id": "p6JV_7p3Il9i"
   },
   "outputs": [],
   "source": [
    "# Defining parameter distributions\n",
    "\n",
    "param_distributions = {\n",
    "    'simpleimputer__strategy': ['mean', 'median'],\n",
    "    'randomforestclassifier__max_depth': range(20, 30),\n",
    "    'randomforestclassifier__min_samples_split': range(5, 10),\n",
    "    'randomforestclassifier__min_samples_leaf': range(1, 5)\n",
    "}"
   ]
  },
  {
   "cell_type": "code",
   "execution_count": 14,
   "metadata": {},
   "outputs": [],
   "source": [
    "param_distributions = {\n",
    "    'simpleimputer__strategy': ['mean', 'median'],\n",
    "    'randomforestclassifier__max_depth': range(20, 30),\n",
    "    'randomforestclassifier__min_samples_split': range(6, 11),\n",
    "    'randomforestclassifier__min_samples_leaf': range(1, 6),\n",
    "    'randomforestclassifier__max_features': range(6, 14)\n",
    "}"
   ]
  },
  {
   "cell_type": "code",
   "execution_count": 28,
   "metadata": {
    "colab": {},
    "colab_type": "code",
    "id": "jSGgTDEyJh4F"
   },
   "outputs": [],
   "source": [
    "# Instantiating/defining instance of RandomizedSearchCV\n",
    "\n",
    "search = RandomizedSearchCV(\n",
    "    pipeline,\n",
    "    param_distributions=param_distributions,\n",
    "    n_iter=40,\n",
    "    cv=3,\n",
    "    scoring='accuracy',\n",
    "    verbose=10,\n",
    "    return_train_score=True,\n",
    "    n_jobs=-1\n",
    ")"
   ]
  },
  {
   "cell_type": "code",
   "execution_count": 29,
   "metadata": {
    "colab": {
     "base_uri": "https://localhost:8080/",
     "height": 714
    },
    "colab_type": "code",
    "id": "TvfJOTyUJ3bI",
    "outputId": "304b583e-0000-4096-d04f-65eb7312710d"
   },
   "outputs": [
    {
     "name": "stdout",
     "output_type": "stream",
     "text": [
      "Fitting 3 folds for each of 40 candidates, totalling 120 fits\n"
     ]
    },
    {
     "name": "stderr",
     "output_type": "stream",
     "text": [
      "[Parallel(n_jobs=-1)]: Using backend LokyBackend with 4 concurrent workers.\n",
      "[Parallel(n_jobs=-1)]: Done   5 tasks      | elapsed:   28.0s\n",
      "[Parallel(n_jobs=-1)]: Done  10 tasks      | elapsed:   39.2s\n",
      "[Parallel(n_jobs=-1)]: Done  17 tasks      | elapsed:  1.1min\n",
      "[Parallel(n_jobs=-1)]: Done  24 tasks      | elapsed:  1.4min\n",
      "[Parallel(n_jobs=-1)]: Done  33 tasks      | elapsed:  2.0min\n",
      "[Parallel(n_jobs=-1)]: Done  42 tasks      | elapsed:  2.5min\n",
      "[Parallel(n_jobs=-1)]: Done  53 tasks      | elapsed:  3.3min\n",
      "[Parallel(n_jobs=-1)]: Done  64 tasks      | elapsed:  3.8min\n",
      "[Parallel(n_jobs=-1)]: Done  77 tasks      | elapsed:  4.8min\n",
      "[Parallel(n_jobs=-1)]: Done  90 tasks      | elapsed:  5.5min\n",
      "[Parallel(n_jobs=-1)]: Done 105 tasks      | elapsed:  6.4min\n",
      "[Parallel(n_jobs=-1)]: Done 120 out of 120 | elapsed:  7.2min finished\n"
     ]
    },
    {
     "data": {
      "text/plain": [
       "RandomizedSearchCV(cv=3, error_score=nan,\n",
       "                   estimator=Pipeline(memory=None,\n",
       "                                      steps=[('ordinalencoder',\n",
       "                                              OrdinalEncoder(cols=None,\n",
       "                                                             drop_invariant=False,\n",
       "                                                             handle_missing='value',\n",
       "                                                             handle_unknown='value',\n",
       "                                                             mapping=None,\n",
       "                                                             return_df=True,\n",
       "                                                             verbose=0)),\n",
       "                                             ('simpleimputer',\n",
       "                                              SimpleImputer(add_indicator=False,\n",
       "                                                            copy=True,\n",
       "                                                            fill_value=None,\n",
       "                                                            missing_values=nan,\n",
       "                                                            strategy='median',\n",
       "                                                            verbose=...\n",
       "                   param_distributions={'randomforestclassifier__max_depth': range(20, 30),\n",
       "                                        'randomforestclassifier__max_features': range(6, 14),\n",
       "                                        'randomforestclassifier__min_samples_leaf': range(1, 6),\n",
       "                                        'randomforestclassifier__min_samples_split': range(6, 11),\n",
       "                                        'simpleimputer__strategy': ['mean',\n",
       "                                                                    'median']},\n",
       "                   pre_dispatch='2*n_jobs', random_state=None, refit=True,\n",
       "                   return_train_score=True, scoring='accuracy', verbose=10)"
      ]
     },
     "execution_count": 29,
     "metadata": {},
     "output_type": "execute_result"
    }
   ],
   "source": [
    "# Fitting search to training set\n",
    "\n",
    "search.fit(X_train, y_train)"
   ]
  },
  {
   "cell_type": "code",
   "execution_count": 30,
   "metadata": {
    "colab": {
     "base_uri": "https://localhost:8080/",
     "height": 71
    },
    "colab_type": "code",
    "id": "sG6oxaDVKIfx",
    "outputId": "0ffd4869-4dd4-4a81-c5b4-ead54df1bde6"
   },
   "outputs": [
    {
     "name": "stdout",
     "output_type": "stream",
     "text": [
      "Best hyperparameters: {'simpleimputer__strategy': 'mean', 'randomforestclassifier__min_samples_split': 6, 'randomforestclassifier__min_samples_leaf': 2, 'randomforestclassifier__max_features': 6, 'randomforestclassifier__max_depth': 29}\n",
      "Cross-validation Accuracy: 0.8005050505050505\n"
     ]
    }
   ],
   "source": [
    "print('Best hyperparameters:', search.best_params_)\n",
    "print('Cross-validation Accuracy:', search.best_score_)"
   ]
  },
  {
   "cell_type": "code",
   "execution_count": 15,
   "metadata": {
    "colab": {
     "base_uri": "https://localhost:8080/",
     "height": 51
    },
    "colab_type": "code",
    "id": "z0ybycSvNDG9",
    "outputId": "50874be1-39bc-449b-b35e-5fc780c98766"
   },
   "outputs": [
    {
     "name": "stdout",
     "output_type": "stream",
     "text": [
      "Random Forest Train Accuracy Score: 0.9050925925925926\n",
      "Random Forest Validation Accuracy Score: 0.8178451178451178\n"
     ]
    }
   ],
   "source": [
    "rf = make_pipeline(\n",
    "    ce.OrdinalEncoder(),\n",
    "    SimpleImputer(strategy='mean'),\n",
    "    RandomForestClassifier(random_state=7, \n",
    "                           n_jobs=-1, \n",
    "                           n_estimators=300, \n",
    "                           min_samples_leaf=1, \n",
    "                           min_samples_split=9,\n",
    "                           max_depth=25,\n",
    "                           warm_start=True)\n",
    ")\n",
    "rf.fit(X_train, y_train)\n",
    "print('Random Forest Train Accuracy Score:', rf.score(X_train, y_train))\n",
    "print('Random Forest Validation Accuracy Score:', rf.score(X_val, y_val))"
   ]
  },
  {
   "cell_type": "code",
   "execution_count": 16,
   "metadata": {
    "colab": {},
    "colab_type": "code",
    "id": "UjHpGYazNVfa"
   },
   "outputs": [
    {
     "name": "stdout",
     "output_type": "stream",
     "text": [
      "Random Forest Train Accuracy Score: 0.8986742424242424\n",
      "Random Forest Validation Accuracy Score: 0.8192760942760943\n"
     ]
    }
   ],
   "source": [
    "rf_2 = make_pipeline(\n",
    "    ce.OrdinalEncoder(),\n",
    "    SimpleImputer(strategy='median'),\n",
    "    RandomForestClassifier(random_state=7, \n",
    "                           n_jobs=-1, \n",
    "                           n_estimators=300, \n",
    "                           min_samples_leaf=2, \n",
    "                           min_samples_split=6,\n",
    "                           max_depth=26,\n",
    "                           warm_start=True)\n",
    ")\n",
    "rf_2.fit(X_train, y_train)\n",
    "print('Random Forest Train Accuracy Score:', rf_2.score(X_train, y_train))\n",
    "print('Random Forest Validation Accuracy Score:', rf_2.score(X_val, y_val))"
   ]
  },
  {
   "cell_type": "code",
   "execution_count": 17,
   "metadata": {},
   "outputs": [
    {
     "name": "stdout",
     "output_type": "stream",
     "text": [
      "Random Forest Train Accuracy Score: 0.9166877104377105\n",
      "Random Forest Validation Accuracy Score: 0.8186868686868687\n"
     ]
    }
   ],
   "source": [
    "rf_3 = make_pipeline(\n",
    "    ce.OrdinalEncoder(),\n",
    "    SimpleImputer(strategy='mean'),\n",
    "    RandomForestClassifier(random_state=7, \n",
    "                           n_jobs=-1, \n",
    "                           n_estimators=300, \n",
    "                           min_samples_leaf=2, \n",
    "                           min_samples_split=6,\n",
    "                           max_depth=27,\n",
    "                           max_features=9,\n",
    "                           warm_start=True)\n",
    ")\n",
    "rf_3.fit(X_train, y_train)\n",
    "print('Random Forest Train Accuracy Score:', rf_3.score(X_train, y_train))\n",
    "print('Random Forest Validation Accuracy Score:', rf_3.score(X_val, y_val))"
   ]
  },
  {
   "cell_type": "code",
   "execution_count": 18,
   "metadata": {},
   "outputs": [],
   "source": [
    "y_pred = rf_2.predict(X_test)"
   ]
  },
  {
   "cell_type": "code",
   "execution_count": 19,
   "metadata": {},
   "outputs": [],
   "source": [
    "test_copy = pd.read_csv(DATA_PATH+'waterpumps/test_features.csv')\n",
    "\n",
    "submission = test_copy[['id']].copy()\n",
    "submission['status_group'] = y_pred"
   ]
  },
  {
   "cell_type": "code",
   "execution_count": 20,
   "metadata": {},
   "outputs": [],
   "source": [
    "submission.to_csv('tanzania-waterpumps-submission-april-15-manalo-karl.csv', index=False)"
   ]
  },
  {
   "cell_type": "code",
   "execution_count": null,
   "metadata": {},
   "outputs": [],
   "source": []
  }
 ],
 "metadata": {
  "colab": {
   "collapsed_sections": [],
   "name": "LS_DS14_223_assignment_Manalo_Karl_200415.ipynb",
   "provenance": []
  },
  "kernelspec": {
   "display_name": "Python 3",
   "language": "python",
   "name": "python3"
  },
  "language_info": {
   "codemirror_mode": {
    "name": "ipython",
    "version": 3
   },
   "file_extension": ".py",
   "mimetype": "text/x-python",
   "name": "python",
   "nbconvert_exporter": "python",
   "pygments_lexer": "ipython3",
   "version": "3.7.6"
  }
 },
 "nbformat": 4,
 "nbformat_minor": 1
}
